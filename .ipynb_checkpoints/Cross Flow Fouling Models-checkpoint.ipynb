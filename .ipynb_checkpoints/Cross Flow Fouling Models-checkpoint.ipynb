{
 "cells": [
  {
   "cell_type": "markdown",
   "metadata": {},
   "source": [
    "<h1> Cross Flow Fouling Models </h1>\n",
    "\n",
    "<p>Filename:</p>"
   ]
  },
  {
   "cell_type": "code",
   "execution_count": 110,
   "metadata": {
    "collapsed": true
   },
   "outputs": [],
   "source": [
    "file = 'MW_NF270.csv'"
   ]
  },
  {
   "cell_type": "code",
   "execution_count": 111,
   "metadata": {
    "collapsed": true
   },
   "outputs": [],
   "source": [
    "import numpy as np\n",
    "import pandas as pd\n",
    "import csv\n",
    "import matplotlib.pyplot as plt\n",
    "from scipy.optimize import curve_fit"
   ]
  },
  {
   "cell_type": "markdown",
   "metadata": {},
   "source": [
    "<p>Modeli - Cross flow:</p>"
   ]
  },
  {
   "cell_type": "code",
   "execution_count": 112,
   "metadata": {
    "collapsed": true
   },
   "outputs": [],
   "source": [
    "def complete_pore_blocking( t, k, Jst):\n",
    "    #Jst=0.13\n",
    "    return (J0 - Jst)*np.exp(-k*t) +Jst\n",
    "def internal_pore_blocking(t, k):\n",
    "    A=140\n",
    "    return J0/(1+(1/2)*k*np.sqrt(A*J0)*t)\n",
    "def partial_pore_blocking(t, k, Jst):\n",
    "    return Jst/(1-((J0-Jst)/J0)*np.exp(-Jst*k*t))\n",
    "def cake_formation(j, k, Jst):\n",
    "    t = k*(np.log((j/J0)*(J0-Jst)/(j-Jst))-Jst*(1/j-1/J0))/Jst**2\n",
    "    return t"
   ]
  },
  {
   "cell_type": "code",
   "execution_count": 113,
   "metadata": {
    "collapsed": true
   },
   "outputs": [],
   "source": [
    "df = pd.read_csv(file)"
   ]
  },
  {
   "cell_type": "code",
   "execution_count": 114,
   "metadata": {
    "collapsed": true
   },
   "outputs": [],
   "source": [
    "#POCETNI FLUKS\n",
    "J0 = df.iloc[0]['Flux']\n",
    "\n",
    "#STABILNI FLUKS (KRITICNI)- PROCIJENA\n",
    "Jst_pr = df.iloc[-1]['Flux']"
   ]
  },
  {
   "cell_type": "code",
   "execution_count": 115,
   "metadata": {},
   "outputs": [
    {
     "name": "stdout",
     "output_type": "stream",
     "text": [
      "Complete pore blocking [ 0.00476007  0.71670394] [[  3.58883989e-06   1.73757490e-04]\n",
      " [  1.73757490e-04   8.44186153e-03]]\n",
      "Internal pore blocking [ 0.0002071]\n",
      "Partial pore blocking [ 0.00387695  0.64938367]\n",
      "Cake formation [ 322.06320452    0.54719502]\n"
     ]
    }
   ],
   "source": [
    "cpb_popt, cpb_pcov = curve_fit(complete_pore_blocking , df[:]['Time'], df[:]['Flux'],  p0=[0.001, Jst_pr])\n",
    "print('Complete pore blocking',cpb_popt,cpb_pcov)\n",
    "\n",
    "ipb_popt, ipb_pcov = curve_fit(internal_pore_blocking , df[:]['Time'], df[:]['Flux'],  p0=[0.001])\n",
    "print('Internal pore blocking', ipb_popt)\n",
    "\n",
    "ppb_popt, ppb_pcov = curve_fit(partial_pore_blocking , df[:]['Time'], df[:]['Flux'],  p0=[0.001, Jst_pr])\n",
    "print('Partial pore blocking', ppb_popt)\n",
    "\n",
    "cf_popt, cf_pcov = curve_fit(cake_formation , df[:]['Flux'], df[:]['Time'],  p0=[12, Jst_pr*0.1])\n",
    "print('Cake formation', cf_popt)"
   ]
  },
  {
   "cell_type": "code",
   "execution_count": 116,
   "metadata": {},
   "outputs": [
    {
     "data": {
      "image/png": "[encoded data removed]",
      "text/plain": [
       "<matplotlib.figure.Figure at 0x2f2a8c38c50>"
      ]
     },
     "metadata": {},
     "output_type": "display_data"
    }
   ],
   "source": [
    "#GRAFOVI FITANIH MODELA\n",
    "plt.plot(df['Time'], complete_pore_blocking(df['Time'],*cpb_popt ), label='Complete pore blociking')\n",
    "plt.plot(df['Time'], internal_pore_blocking(df['Time'],*ipb_popt ), label='Internal pore blociking')\n",
    "plt.plot(df['Time'], partial_pore_blocking(df['Time'],*ppb_popt ), label='Partial pore blociking')\n",
    "plt.plot( cake_formation(df['Flux'],*cf_popt ), df['Flux'],  label='Cake formation')\n",
    "\n",
    "\n",
    "#GRAF PODATAKA\n",
    "plt.scatter(df['Time'], df['Flux'], s=5, color='r', alpha=0.9)\n",
    "plt.title('Fluks - Vrijeme (cross flow modeli)', size=16)\n",
    "plt.xlabel('Vrijeme,$s$', size=14)\n",
    "plt.ylabel('Fluks, $-$', size=14)\n",
    "plt.ylim(ymin=0)\n",
    "plt.xlim(xmin=0)\n",
    "plt.tick_params(labelsize=14)\n",
    "plt.legend()\n",
    "plt.grid(linestyle=\"--\", linewidth=0.5, color='.1', zorder=-10)\n",
    "plt.show()"
   ]
  },
  {
   "cell_type": "code",
   "execution_count": 117,
   "metadata": {},
   "outputs": [
    {
     "data": {
      "text/html": [
       "<div>\n",
       "<style>\n",
       "    .dataframe thead tr:only-child th {\n",
       "        text-align: right;\n",
       "    }\n",
       "\n",
       "    .dataframe thead th {\n",
       "        text-align: left;\n",
       "    }\n",
       "\n",
       "    .dataframe tbody tr th {\n",
       "        vertical-align: top;\n",
       "    }\n",
       "</style>\n",
       "<table border=\"1\" class=\"dataframe\">\n",
       "  <thead>\n",
       "    <tr style=\"text-align: right;\">\n",
       "      <th></th>\n",
       "      <th>Time</th>\n",
       "      <th>Flux</th>\n",
       "      <th>complete pore blocking</th>\n",
       "      <th>internal_pore_blocking</th>\n",
       "      <th>partial_pore_blocking</th>\n",
       "      <th>Time, cf</th>\n",
       "      <th>Flux_cf</th>\n",
       "    </tr>\n",
       "  </thead>\n",
       "  <tbody>\n",
       "    <tr>\n",
       "      <th>0</th>\n",
       "      <td>0</td>\n",
       "      <td>1.000000</td>\n",
       "      <td>1.000000</td>\n",
       "      <td>1.000000</td>\n",
       "      <td>1.000000</td>\n",
       "      <td>0.000000</td>\n",
       "      <td>1.000000</td>\n",
       "    </tr>\n",
       "    <tr>\n",
       "      <th>1</th>\n",
       "      <td>2</td>\n",
       "      <td>0.970554</td>\n",
       "      <td>0.997316</td>\n",
       "      <td>0.997556</td>\n",
       "      <td>0.997296</td>\n",
       "      <td>22.320699</td>\n",
       "      <td>0.970554</td>\n",
       "    </tr>\n",
       "    <tr>\n",
       "      <th>2</th>\n",
       "      <td>4</td>\n",
       "      <td>0.958775</td>\n",
       "      <td>0.994657</td>\n",
       "      <td>0.995123</td>\n",
       "      <td>0.994619</td>\n",
       "      <td>32.086917</td>\n",
       "      <td>0.958775</td>\n",
       "    </tr>\n",
       "    <tr>\n",
       "      <th>3</th>\n",
       "      <td>6</td>\n",
       "      <td>0.988221</td>\n",
       "      <td>0.992023</td>\n",
       "      <td>0.992702</td>\n",
       "      <td>0.991970</td>\n",
       "      <td>8.590161</td>\n",
       "      <td>0.988221</td>\n",
       "    </tr>\n",
       "    <tr>\n",
       "      <th>4</th>\n",
       "      <td>8</td>\n",
       "      <td>0.981154</td>\n",
       "      <td>0.989415</td>\n",
       "      <td>0.990293</td>\n",
       "      <td>0.989349</td>\n",
       "      <td>13.956029</td>\n",
       "      <td>0.981154</td>\n",
       "    </tr>\n",
       "  </tbody>\n",
       "</table>\n",
       "</div>"
      ],
      "text/plain": [
       "   Time      Flux  complete pore blocking  internal_pore_blocking  \\\n",
       "0     0  1.000000                1.000000                1.000000   \n",
       "1     2  0.970554                0.997316                0.997556   \n",
       "2     4  0.958775                0.994657                0.995123   \n",
       "3     6  0.988221                0.992023                0.992702   \n",
       "4     8  0.981154                0.989415                0.990293   \n",
       "\n",
       "   partial_pore_blocking   Time, cf   Flux_cf  \n",
       "0               1.000000   0.000000  1.000000  \n",
       "1               0.997296  22.320699  0.970554  \n",
       "2               0.994619  32.086917  0.958775  \n",
       "3               0.991970   8.590161  0.988221  \n",
       "4               0.989349  13.956029  0.981154  "
      ]
     },
     "execution_count": 117,
     "metadata": {},
     "output_type": "execute_result"
    }
   ],
   "source": [
    "df['complete pore blocking'] = complete_pore_blocking(df['Time'],*cpb_popt )\n",
    "df['internal_pore_blocking'] = internal_pore_blocking(df['Time'],*ipb_popt )\n",
    "df['partial_pore_blocking'] = partial_pore_blocking(df['Time'],*ppb_popt )\n",
    "\n",
    "df['Time, cf'] = cake_formation(df['Flux'],*cf_popt )\n",
    "df['Flux_cf'] = df['Flux']\n",
    "\n",
    "writer = pd.ExcelWriter(file + '_fouling_modeli.xlsx')\n",
    "df.to_excel(writer, 'Sheet1')\n",
    "writer.save()\n",
    "\n",
    "df.head()"
   ]
  }
 ],
 "metadata": {
  "kernelspec": {
   "display_name": "Python 3",
   "language": "python",
   "name": "python3"
  },
  "language_info": {
   "codemirror_mode": {
    "name": "ipython",
    "version": 3
   },
   "file_extension": ".py",
   "mimetype": "text/x-python",
   "name": "python",
   "nbconvert_exporter": "python",
   "pygments_lexer": "ipython3",
   "version": "3.6.3"
  }
 },
 "nbformat": 4,
 "nbformat_minor": 2
}
